{
 "cells": [
  {
   "cell_type": "code",
   "execution_count": 28,
   "metadata": {},
   "outputs": [],
   "source": [
    "import urllib, json\n",
    "import pandas as pd\n",
    "import re\n",
    "from itertools import permutations\n",
    "\n",
    "from pulp import *"
   ]
  },
  {
   "cell_type": "markdown",
   "metadata": {},
   "source": [
    "# Fantasy Football Using Linear Progamming\n",
    "\n",
    "I'll be using python, pandas and PuLP to make my decision. We'll be working off the naive assumption that whatever the person scored last time, he will score this time and we'll optimize for the highest possible score given our salary and position constraints.\n",
    "\n",
    "First we have to download and clean up the data a bit."
   ]
  },
  {
   "cell_type": "code",
   "execution_count": 66,
   "metadata": {},
   "outputs": [],
   "source": [
    "LATEST_URL = \"https://api.draftkings.com/draftgroups/v1/draftgroups/21434/draftables?format=json\""
   ]
  },
  {
   "cell_type": "code",
   "execution_count": 67,
   "metadata": {},
   "outputs": [],
   "source": [
    "response = urllib.request.urlopen(LATEST_URL)\n",
    "data = json.loads(response.read())\n",
    "current = pd.DataFrame.from_dict(data[\"draftables\"])"
   ]
  },
  {
   "cell_type": "code",
   "execution_count": 68,
   "metadata": {},
   "outputs": [],
   "source": [
    "# Remove players that are out or questionable\n",
    "current = current[current.status == \"None\"]"
   ]
  },
  {
   "cell_type": "code",
   "execution_count": 69,
   "metadata": {},
   "outputs": [
    {
     "data": {
      "text/html": [
       "<div>\n",
       "<style scoped>\n",
       "    .dataframe tbody tr th:only-of-type {\n",
       "        vertical-align: middle;\n",
       "    }\n",
       "\n",
       "    .dataframe tbody tr th {\n",
       "        vertical-align: top;\n",
       "    }\n",
       "\n",
       "    .dataframe thead th {\n",
       "        text-align: right;\n",
       "    }\n",
       "</style>\n",
       "<table border=\"1\" class=\"dataframe\">\n",
       "  <thead>\n",
       "    <tr style=\"text-align: right;\">\n",
       "      <th></th>\n",
       "      <th>draftableId</th>\n",
       "      <th>firstName</th>\n",
       "      <th>lastName</th>\n",
       "      <th>displayName</th>\n",
       "      <th>shortName</th>\n",
       "      <th>playerId</th>\n",
       "      <th>playerDkId</th>\n",
       "      <th>position</th>\n",
       "      <th>rosterSlotId</th>\n",
       "      <th>salary</th>\n",
       "      <th>...</th>\n",
       "      <th>playerImage65</th>\n",
       "      <th>playerImage160</th>\n",
       "      <th>competition</th>\n",
       "      <th>draftStatAttributes</th>\n",
       "      <th>playerAttributes</th>\n",
       "      <th>playerGameAttributes</th>\n",
       "      <th>teamId</th>\n",
       "      <th>teamAbbreviation</th>\n",
       "      <th>draftAlerts</th>\n",
       "      <th>playerGameHash</th>\n",
       "    </tr>\n",
       "  </thead>\n",
       "  <tbody>\n",
       "    <tr>\n",
       "      <th>0</th>\n",
       "      <td>11239044</td>\n",
       "      <td>Alvin</td>\n",
       "      <td>Kamara</td>\n",
       "      <td>Alvin Kamara</td>\n",
       "      <td>A. Kamara</td>\n",
       "      <td>750846</td>\n",
       "      <td>0</td>\n",
       "      <td>RB</td>\n",
       "      <td>67</td>\n",
       "      <td>9500</td>\n",
       "      <td>...</td>\n",
       "      <td>https://d327rxwuxd0q0c.cloudfront.net/m/nfl_65...</td>\n",
       "      <td>https://d327rxwuxd0q0c.cloudfront.net/m/nfl_re...</td>\n",
       "      <td>{'competitionId': 5523589, 'name': 'CLE @ NO',...</td>\n",
       "      <td>[{'id': 90, 'value': '32.0', 'sortValue': '32....</td>\n",
       "      <td>[]</td>\n",
       "      <td>[]</td>\n",
       "      <td>350</td>\n",
       "      <td>NO</td>\n",
       "      <td>[]</td>\n",
       "      <td>750846-5523589</td>\n",
       "    </tr>\n",
       "    <tr>\n",
       "      <th>1</th>\n",
       "      <td>11239045</td>\n",
       "      <td>Alvin</td>\n",
       "      <td>Kamara</td>\n",
       "      <td>Alvin Kamara</td>\n",
       "      <td>A. Kamara</td>\n",
       "      <td>750846</td>\n",
       "      <td>0</td>\n",
       "      <td>RB</td>\n",
       "      <td>70</td>\n",
       "      <td>9500</td>\n",
       "      <td>...</td>\n",
       "      <td>https://d327rxwuxd0q0c.cloudfront.net/m/nfl_65...</td>\n",
       "      <td>https://d327rxwuxd0q0c.cloudfront.net/m/nfl_re...</td>\n",
       "      <td>{'competitionId': 5523589, 'name': 'CLE @ NO',...</td>\n",
       "      <td>[{'id': 90, 'value': '32.0', 'sortValue': '32....</td>\n",
       "      <td>[]</td>\n",
       "      <td>[]</td>\n",
       "      <td>350</td>\n",
       "      <td>NO</td>\n",
       "      <td>[]</td>\n",
       "      <td>750846-5523589</td>\n",
       "    </tr>\n",
       "    <tr>\n",
       "      <th>2</th>\n",
       "      <td>11239046</td>\n",
       "      <td>Todd</td>\n",
       "      <td>Gurley II</td>\n",
       "      <td>Todd Gurley II</td>\n",
       "      <td>T. Gurley II</td>\n",
       "      <td>694641</td>\n",
       "      <td>0</td>\n",
       "      <td>RB</td>\n",
       "      <td>67</td>\n",
       "      <td>9200</td>\n",
       "      <td>...</td>\n",
       "      <td>https://d327rxwuxd0q0c.cloudfront.net/m/nfl_65...</td>\n",
       "      <td>https://d327rxwuxd0q0c.cloudfront.net/m/nfl_re...</td>\n",
       "      <td>{'competitionId': 5523601, 'name': 'ARI @ LAR'...</td>\n",
       "      <td>[{'id': 90, 'value': '29.5', 'sortValue': '29....</td>\n",
       "      <td>[]</td>\n",
       "      <td>[]</td>\n",
       "      <td>343</td>\n",
       "      <td>LAR</td>\n",
       "      <td>[]</td>\n",
       "      <td>694641-5523601</td>\n",
       "    </tr>\n",
       "    <tr>\n",
       "      <th>3</th>\n",
       "      <td>11239047</td>\n",
       "      <td>Todd</td>\n",
       "      <td>Gurley II</td>\n",
       "      <td>Todd Gurley II</td>\n",
       "      <td>T. Gurley II</td>\n",
       "      <td>694641</td>\n",
       "      <td>0</td>\n",
       "      <td>RB</td>\n",
       "      <td>70</td>\n",
       "      <td>9200</td>\n",
       "      <td>...</td>\n",
       "      <td>https://d327rxwuxd0q0c.cloudfront.net/m/nfl_65...</td>\n",
       "      <td>https://d327rxwuxd0q0c.cloudfront.net/m/nfl_re...</td>\n",
       "      <td>{'competitionId': 5523601, 'name': 'ARI @ LAR'...</td>\n",
       "      <td>[{'id': 90, 'value': '29.5', 'sortValue': '29....</td>\n",
       "      <td>[]</td>\n",
       "      <td>[]</td>\n",
       "      <td>343</td>\n",
       "      <td>LAR</td>\n",
       "      <td>[]</td>\n",
       "      <td>694641-5523601</td>\n",
       "    </tr>\n",
       "    <tr>\n",
       "      <th>6</th>\n",
       "      <td>11239276</td>\n",
       "      <td>Antonio</td>\n",
       "      <td>Brown</td>\n",
       "      <td>Antonio Brown</td>\n",
       "      <td>A. Brown</td>\n",
       "      <td>406214</td>\n",
       "      <td>0</td>\n",
       "      <td>WR</td>\n",
       "      <td>68</td>\n",
       "      <td>8800</td>\n",
       "      <td>...</td>\n",
       "      <td>https://d327rxwuxd0q0c.cloudfront.net/m/nfl_65...</td>\n",
       "      <td>https://d327rxwuxd0q0c.cloudfront.net/m/nfl_re...</td>\n",
       "      <td>{'competitionId': 5523565, 'name': 'KC @ PIT',...</td>\n",
       "      <td>[{'id': 90, 'value': '20.0', 'sortValue': '20....</td>\n",
       "      <td>[]</td>\n",
       "      <td>[]</td>\n",
       "      <td>356</td>\n",
       "      <td>PIT</td>\n",
       "      <td>[]</td>\n",
       "      <td>406214-5523565</td>\n",
       "    </tr>\n",
       "  </tbody>\n",
       "</table>\n",
       "<p>5 rows × 26 columns</p>\n",
       "</div>"
      ],
      "text/plain": [
       "   draftableId firstName   lastName     displayName     shortName  playerId  \\\n",
       "0     11239044     Alvin     Kamara    Alvin Kamara     A. Kamara    750846   \n",
       "1     11239045     Alvin     Kamara    Alvin Kamara     A. Kamara    750846   \n",
       "2     11239046      Todd  Gurley II  Todd Gurley II  T. Gurley II    694641   \n",
       "3     11239047      Todd  Gurley II  Todd Gurley II  T. Gurley II    694641   \n",
       "6     11239276   Antonio      Brown   Antonio Brown      A. Brown    406214   \n",
       "\n",
       "   playerDkId position  rosterSlotId  salary  ...  \\\n",
       "0           0       RB            67    9500  ...   \n",
       "1           0       RB            70    9500  ...   \n",
       "2           0       RB            67    9200  ...   \n",
       "3           0       RB            70    9200  ...   \n",
       "6           0       WR            68    8800  ...   \n",
       "\n",
       "                                       playerImage65  \\\n",
       "0  https://d327rxwuxd0q0c.cloudfront.net/m/nfl_65...   \n",
       "1  https://d327rxwuxd0q0c.cloudfront.net/m/nfl_65...   \n",
       "2  https://d327rxwuxd0q0c.cloudfront.net/m/nfl_65...   \n",
       "3  https://d327rxwuxd0q0c.cloudfront.net/m/nfl_65...   \n",
       "6  https://d327rxwuxd0q0c.cloudfront.net/m/nfl_65...   \n",
       "\n",
       "                                      playerImage160  \\\n",
       "0  https://d327rxwuxd0q0c.cloudfront.net/m/nfl_re...   \n",
       "1  https://d327rxwuxd0q0c.cloudfront.net/m/nfl_re...   \n",
       "2  https://d327rxwuxd0q0c.cloudfront.net/m/nfl_re...   \n",
       "3  https://d327rxwuxd0q0c.cloudfront.net/m/nfl_re...   \n",
       "6  https://d327rxwuxd0q0c.cloudfront.net/m/nfl_re...   \n",
       "\n",
       "                                         competition  \\\n",
       "0  {'competitionId': 5523589, 'name': 'CLE @ NO',...   \n",
       "1  {'competitionId': 5523589, 'name': 'CLE @ NO',...   \n",
       "2  {'competitionId': 5523601, 'name': 'ARI @ LAR'...   \n",
       "3  {'competitionId': 5523601, 'name': 'ARI @ LAR'...   \n",
       "6  {'competitionId': 5523565, 'name': 'KC @ PIT',...   \n",
       "\n",
       "                                 draftStatAttributes playerAttributes  \\\n",
       "0  [{'id': 90, 'value': '32.0', 'sortValue': '32....               []   \n",
       "1  [{'id': 90, 'value': '32.0', 'sortValue': '32....               []   \n",
       "2  [{'id': 90, 'value': '29.5', 'sortValue': '29....               []   \n",
       "3  [{'id': 90, 'value': '29.5', 'sortValue': '29....               []   \n",
       "6  [{'id': 90, 'value': '20.0', 'sortValue': '20....               []   \n",
       "\n",
       "  playerGameAttributes teamId teamAbbreviation draftAlerts  playerGameHash  \n",
       "0                   []    350               NO          []  750846-5523589  \n",
       "1                   []    350               NO          []  750846-5523589  \n",
       "2                   []    343              LAR          []  694641-5523601  \n",
       "3                   []    343              LAR          []  694641-5523601  \n",
       "6                   []    356              PIT          []  406214-5523565  \n",
       "\n",
       "[5 rows x 26 columns]"
      ]
     },
     "execution_count": 69,
     "metadata": {},
     "output_type": "execute_result"
    }
   ],
   "source": [
    "current.head()"
   ]
  },
  {
   "cell_type": "markdown",
   "metadata": {},
   "source": [
    "The previous points the player scored is nested inside a \"draftStatAttributes\" field. For some reason its in a list. What we want is the \"value\" float in the list. It's not always the first element so we need to extract that."
   ]
  },
  {
   "cell_type": "code",
   "execution_count": 70,
   "metadata": {},
   "outputs": [],
   "source": [
    "def get_float(l, key):\n",
    "    \"\"\" Returns first float value from a list of dictionaries based on key. Defaults to 0.0 \"\"\"\n",
    "    for d in l:\n",
    "        try:\n",
    "            return float(d.get(key))\n",
    "        except:\n",
    "            pass\n",
    "    return 0.0"
   ]
  },
  {
   "cell_type": "code",
   "execution_count": 71,
   "metadata": {},
   "outputs": [],
   "source": [
    "points = [get_float(x, \"value\") for x in current.draftStatAttributes]\n",
    "current[\"points\"] = points"
   ]
  },
  {
   "cell_type": "markdown",
   "metadata": {},
   "source": [
    "We now have everything we need. A few of the records are duplicated, so we can just trim everything down and group by the fields we need: position, displayName, salary and points."
   ]
  },
  {
   "cell_type": "code",
   "execution_count": 72,
   "metadata": {},
   "outputs": [],
   "source": [
    "availables = current[[\"position\", \"displayName\", \"salary\", \"points\"]].groupby([\"position\", \"displayName\", \"salary\", \"points\"]).agg(\"count\")\n",
    "availables = availables.reset_index()"
   ]
  },
  {
   "cell_type": "code",
   "execution_count": 73,
   "metadata": {},
   "outputs": [
    {
     "data": {
      "text/html": [
       "<div>\n",
       "<style scoped>\n",
       "    .dataframe tbody tr th:only-of-type {\n",
       "        vertical-align: middle;\n",
       "    }\n",
       "\n",
       "    .dataframe tbody tr th {\n",
       "        vertical-align: top;\n",
       "    }\n",
       "\n",
       "    .dataframe thead th {\n",
       "        text-align: right;\n",
       "    }\n",
       "</style>\n",
       "<table border=\"1\" class=\"dataframe\">\n",
       "  <thead>\n",
       "    <tr style=\"text-align: right;\">\n",
       "      <th></th>\n",
       "      <th>position</th>\n",
       "      <th>displayName</th>\n",
       "      <th>salary</th>\n",
       "      <th>points</th>\n",
       "    </tr>\n",
       "  </thead>\n",
       "  <tbody>\n",
       "    <tr>\n",
       "      <th>26</th>\n",
       "      <td>QB</td>\n",
       "      <td>AJ McCarron</td>\n",
       "      <td>4600</td>\n",
       "      <td>0.0</td>\n",
       "    </tr>\n",
       "    <tr>\n",
       "      <th>27</th>\n",
       "      <td>QB</td>\n",
       "      <td>Alex Smith</td>\n",
       "      <td>6000</td>\n",
       "      <td>16.3</td>\n",
       "    </tr>\n",
       "    <tr>\n",
       "      <th>28</th>\n",
       "      <td>QB</td>\n",
       "      <td>Andrew Luck</td>\n",
       "      <td>6200</td>\n",
       "      <td>18.4</td>\n",
       "    </tr>\n",
       "    <tr>\n",
       "      <th>29</th>\n",
       "      <td>QB</td>\n",
       "      <td>Baker Mayfield</td>\n",
       "      <td>4600</td>\n",
       "      <td>9.8</td>\n",
       "    </tr>\n",
       "    <tr>\n",
       "      <th>30</th>\n",
       "      <td>QB</td>\n",
       "      <td>Ben Roethlisberger</td>\n",
       "      <td>6900</td>\n",
       "      <td>29.5</td>\n",
       "    </tr>\n",
       "    <tr>\n",
       "      <th>31</th>\n",
       "      <td>QB</td>\n",
       "      <td>Blaine Gabbert</td>\n",
       "      <td>4700</td>\n",
       "      <td>6.3</td>\n",
       "    </tr>\n",
       "    <tr>\n",
       "      <th>32</th>\n",
       "      <td>QB</td>\n",
       "      <td>Blake Bortles</td>\n",
       "      <td>5400</td>\n",
       "      <td>25.4</td>\n",
       "    </tr>\n",
       "    <tr>\n",
       "      <th>33</th>\n",
       "      <td>QB</td>\n",
       "      <td>Brandon Allen</td>\n",
       "      <td>4000</td>\n",
       "      <td>0.0</td>\n",
       "    </tr>\n",
       "    <tr>\n",
       "      <th>34</th>\n",
       "      <td>QB</td>\n",
       "      <td>Brandon Weeden</td>\n",
       "      <td>4600</td>\n",
       "      <td>0.0</td>\n",
       "    </tr>\n",
       "    <tr>\n",
       "      <th>35</th>\n",
       "      <td>QB</td>\n",
       "      <td>Brian Hoyer</td>\n",
       "      <td>4500</td>\n",
       "      <td>0.0</td>\n",
       "    </tr>\n",
       "    <tr>\n",
       "      <th>36</th>\n",
       "      <td>QB</td>\n",
       "      <td>Brock Osweiler</td>\n",
       "      <td>4500</td>\n",
       "      <td>0.0</td>\n",
       "    </tr>\n",
       "    <tr>\n",
       "      <th>37</th>\n",
       "      <td>QB</td>\n",
       "      <td>C.J. Beathard</td>\n",
       "      <td>4400</td>\n",
       "      <td>0.0</td>\n",
       "    </tr>\n",
       "    <tr>\n",
       "      <th>38</th>\n",
       "      <td>QB</td>\n",
       "      <td>Cam Newton</td>\n",
       "      <td>6600</td>\n",
       "      <td>24.9</td>\n",
       "    </tr>\n",
       "    <tr>\n",
       "      <th>39</th>\n",
       "      <td>QB</td>\n",
       "      <td>Carson Wentz</td>\n",
       "      <td>6400</td>\n",
       "      <td>0.0</td>\n",
       "    </tr>\n",
       "    <tr>\n",
       "      <th>40</th>\n",
       "      <td>QB</td>\n",
       "      <td>Case Keenum</td>\n",
       "      <td>5800</td>\n",
       "      <td>20.3</td>\n",
       "    </tr>\n",
       "  </tbody>\n",
       "</table>\n",
       "</div>"
      ],
      "text/plain": [
       "   position         displayName  salary  points\n",
       "26       QB         AJ McCarron    4600     0.0\n",
       "27       QB          Alex Smith    6000    16.3\n",
       "28       QB         Andrew Luck    6200    18.4\n",
       "29       QB      Baker Mayfield    4600     9.8\n",
       "30       QB  Ben Roethlisberger    6900    29.5\n",
       "31       QB      Blaine Gabbert    4700     6.3\n",
       "32       QB       Blake Bortles    5400    25.4\n",
       "33       QB       Brandon Allen    4000     0.0\n",
       "34       QB      Brandon Weeden    4600     0.0\n",
       "35       QB         Brian Hoyer    4500     0.0\n",
       "36       QB      Brock Osweiler    4500     0.0\n",
       "37       QB       C.J. Beathard    4400     0.0\n",
       "38       QB          Cam Newton    6600    24.9\n",
       "39       QB        Carson Wentz    6400     0.0\n",
       "40       QB         Case Keenum    5800    20.3"
      ]
     },
     "execution_count": 73,
     "metadata": {},
     "output_type": "execute_result"
    }
   ],
   "source": [
    "availables[availables.position==\"QB\"].head(15)"
   ]
  },
  {
   "cell_type": "markdown",
   "metadata": {},
   "source": [
    "Since we have a constraint on position (i.e. only one QB, two RB, etc), we need to pivot our salaries and points on position. We also need to define the number of each position we will be constrained to."
   ]
  },
  {
   "cell_type": "markdown",
   "metadata": {},
   "source": [
    "DraftKings has a Flex position that can be filled by any running back, wide receiver or tight end. In order to allow an extra running back, wide receiver or tight end, we'll need to increase the allocation for these conditions by 1 and put in an extra condition that says that we cannot pick more 5 total for those."
   ]
  },
  {
   "cell_type": "code",
   "execution_count": 74,
   "metadata": {},
   "outputs": [],
   "source": [
    "salaries = {}\n",
    "points = {}\n",
    "for pos in availables.position.unique():\n",
    "    available_pos = availables[availables.position == pos]\n",
    "    salary = list(available_pos[[\"displayName\",\"salary\"]].set_index(\"displayName\").to_dict().values())[0]\n",
    "    point = list(available_pos[[\"displayName\",\"points\"]].set_index(\"displayName\").to_dict().values())[0]\n",
    "    salaries[pos] = salary\n",
    "    points[pos] = point\n",
    "\n",
    "pos_num_available = {\n",
    "    \"QB\": 1,\n",
    "    \"RB\": 3,\n",
    "    \"WR\": 4,\n",
    "    \"TE\": 2,\n",
    "    \"FLEX\": 1,\n",
    "    \"DST\": 1\n",
    "}\n",
    "\n",
    "pos_flex = {\n",
    "    \"QB\": 0,\n",
    "    \"RB\": 1,\n",
    "    \"WR\": 1,\n",
    "    \"TE\": 1,\n",
    "    \"FLEX\": 0,\n",
    "    \"DST\": 0\n",
    "}\n",
    "\n",
    "pos_flex_available = 5"
   ]
  },
  {
   "cell_type": "markdown",
   "metadata": {},
   "source": [
    "If we look at the salaries variable, it's just a dictionary of player names and salaries pivoted on position. points is the same."
   ]
  },
  {
   "cell_type": "code",
   "execution_count": 75,
   "metadata": {},
   "outputs": [
    {
     "data": {
      "text/plain": [
       "{'49ers ': 2800,\n",
       " 'Bills ': 2100,\n",
       " 'Broncos ': 3300,\n",
       " 'Browns ': 2000,\n",
       " 'Buccaneers ': 2200,\n",
       " 'Cardinals ': 2100,\n",
       " 'Chargers ': 3600,\n",
       " 'Chiefs ': 2200,\n",
       " 'Colts ': 2300,\n",
       " 'Dolphins ': 3100,\n",
       " 'Eagles ': 3400,\n",
       " 'Falcons ': 2700,\n",
       " 'Jaguars ': 2800,\n",
       " 'Jets ': 2500,\n",
       " 'Lions ': 2300,\n",
       " 'Packers ': 2500,\n",
       " 'Panthers ': 2900,\n",
       " 'Patriots ': 3000,\n",
       " 'Raiders ': 2300,\n",
       " 'Rams ': 3700,\n",
       " 'Redskins ': 2700,\n",
       " 'Saints ': 3200,\n",
       " 'Steelers ': 2700,\n",
       " 'Texans ': 2600,\n",
       " 'Titans ': 2400,\n",
       " 'Vikings ': 2600}"
      ]
     },
     "execution_count": 75,
     "metadata": {},
     "output_type": "execute_result"
    }
   ],
   "source": [
    "salaries[\"DST\"]"
   ]
  },
  {
   "cell_type": "code",
   "execution_count": 82,
   "metadata": {},
   "outputs": [],
   "source": [
    "SALARY_CAP = 50000"
   ]
  },
  {
   "cell_type": "markdown",
   "metadata": {},
   "source": [
    "Now we have to define our variables. We want a variables for each position (e.g. QB). There will be an index for each player and the variable will be binary (0 or 1) meant to represent whether the player is included or excluded."
   ]
  },
  {
   "cell_type": "code",
   "execution_count": 83,
   "metadata": {},
   "outputs": [],
   "source": [
    "_vars = {k: LpVariable.dict(k, v, cat=\"Binary\") for k, v in points.items()}"
   ]
  },
  {
   "cell_type": "markdown",
   "metadata": {},
   "source": [
    "Now we can setup our problem. Our cost will just be our salaries indexed for the player times 0 if we are choosing that player and 1 if we're not. Same is true for our reward. And finally we have a constraint on the positions available that we had defined earlier."
   ]
  },
  {
   "cell_type": "code",
   "execution_count": 84,
   "metadata": {},
   "outputs": [],
   "source": [
    "prob = LpProblem(\"Fantasy\", LpMaximize)\n",
    "rewards = []\n",
    "costs = []\n",
    "position_constraints = []\n",
    "\n",
    "# Setting up the reward\n",
    "for k, v in _vars.items():\n",
    "    costs += lpSum([salaries[k][i] * _vars[k][i] for i in v])\n",
    "    rewards += lpSum([points[k][i] * _vars[k][i] for i in v])\n",
    "    prob += lpSum([_vars[k][i] for i in v]) <= pos_num_available[k]\n",
    "    prob += lpSum([pos_flex[k] * _vars[k][i] for i in v]) <= pos_flex_available\n",
    "    \n",
    "prob += lpSum(rewards)\n",
    "prob += lpSum(costs) <= SALARY_CAP"
   ]
  },
  {
   "cell_type": "code",
   "execution_count": 85,
   "metadata": {},
   "outputs": [
    {
     "data": {
      "text/plain": [
       "1"
      ]
     },
     "execution_count": 85,
     "metadata": {},
     "output_type": "execute_result"
    }
   ],
   "source": [
    "prob.solve()"
   ]
  },
  {
   "cell_type": "markdown",
   "metadata": {},
   "source": [
    "The prob object is now solved. It has a variables function that has all our variables and each variable has a varValue which will be either 0 or 1. Below is a helper function to display the results."
   ]
  },
  {
   "cell_type": "code",
   "execution_count": 86,
   "metadata": {},
   "outputs": [],
   "source": [
    "def summary(prob):\n",
    "    div = '---------------------------------------\\n'\n",
    "    print(\"Variables:\\n\")\n",
    "    score = str(prob.objective)\n",
    "    constraints = [str(const) for const in prob.constraints.values()]\n",
    "    for v in prob.variables():\n",
    "        score = score.replace(v.name, str(v.varValue))\n",
    "        constraints = [const.replace(v.name, str(v.varValue)) for const in constraints]\n",
    "        if v.varValue != 0:\n",
    "            print(v.name, \"=\", v.varValue)\n",
    "    print(div)\n",
    "    print(\"Constraints:\")\n",
    "    for constraint in constraints:\n",
    "        constraint_pretty = \" + \".join(re.findall(\"[0-9\\.]*\\*1.0\", constraint))\n",
    "        if constraint_pretty != \"\":\n",
    "            print(\"{} = {}\".format(constraint_pretty, eval(constraint_pretty)))\n",
    "    print(div)\n",
    "    print(\"Score:\")\n",
    "    score_pretty = \" + \".join(re.findall(\"[0-9\\.]+\\*1.0\", score))\n",
    "    print(\"{} = {}\".format(score_pretty, eval(score)))"
   ]
  },
  {
   "cell_type": "code",
   "execution_count": 87,
   "metadata": {},
   "outputs": [
    {
     "name": "stdout",
     "output_type": "stream",
     "text": [
      "Variables:\n",
      "\n",
      "DST_Browns_ = 1.0\n",
      "QB_Ryan_Fitzpatrick = 1.0\n",
      "RB_James_Conner = 1.0\n",
      "TE_Jared_Cook = 1.0\n",
      "TE_Jesse_James = 1.0\n",
      "WR_DeSean_Jackson = 1.0\n",
      "WR_Michael_Thomas = 1.0\n",
      "WR_Tyreek_Hill = 1.0\n",
      "WR_Will_Fuller_V = 1.0\n",
      "---------------------------------------\n",
      "\n",
      "Constraints:\n",
      "2000*1.0 + 5500*1.0 + 6700*1.0 + 3600*1.0 + 2800*1.0 + 4900*1.0 + 8600*1.0 + 7600*1.0 + 5300*1.0 = 47000.0\n",
      "---------------------------------------\n",
      "\n",
      "Score:\n",
      "10.7*1.0 + 39.6*1.0 + 28.9*1.0 + 19.5*1.0 + 18.4*1.0 + 30.3*1.0 + 37.0*1.0 + 32.7*1.0 + 28.3*1.0 = 245.40000000000003\n"
     ]
    }
   ],
   "source": [
    "summary(prob)"
   ]
  },
  {
   "cell_type": "markdown",
   "metadata": {},
   "source": [
    "## Greedy Search"
   ]
  },
  {
   "cell_type": "markdown",
   "metadata": {},
   "source": [
    "How much better is our search versus what most people do? Earlier I said that I would look at the numbers and do a relative kind of comparison, or just pick the top QB in points, then the top RB in points, and so on. That's called a greedy search. To make it fair, let's consider all possible order combinations and pick the best one."
   ]
  },
  {
   "cell_type": "code",
   "execution_count": 45,
   "metadata": {},
   "outputs": [],
   "source": [
    "def eval_players(players):\n",
    "    return sum([current[current.displayName == player].iloc[0].points for player in players])"
   ]
  },
  {
   "cell_type": "code",
   "execution_count": 46,
   "metadata": {},
   "outputs": [],
   "source": [
    "def greedy(val):\n",
    "    remaining = SALARY_CAP\n",
    "    positions = current.position.unique()\n",
    "    best_players = []\n",
    "    best_so_far = -float(\"inf\")\n",
    "    for comb_position in permutations(positions):\n",
    "        players = []\n",
    "        for pos in comb_position:\n",
    "            for _ in range(pos_num_available[pos]):\n",
    "                available = current[(~current.displayName.isin(players)) & \n",
    "                                 (current.position == pos) & \n",
    "                                 (current.salary <= remaining)]\n",
    "                if available.size > 0:\n",
    "                    best = available.sort_values(val,ascending=False).iloc[0]\n",
    "                    players.append(best.displayName)\n",
    "                    remaining -= best.salary\n",
    "        cur_eval = eval_players(players)\n",
    "        if cur_eval > best_so_far:\n",
    "            best_players = players\n",
    "            best_so_far = cur_eval\n",
    "    return best_players"
   ]
  },
  {
   "cell_type": "markdown",
   "metadata": {},
   "source": [
    "How does it do?"
   ]
  },
  {
   "cell_type": "code",
   "execution_count": 47,
   "metadata": {},
   "outputs": [
    {
     "name": "stdout",
     "output_type": "stream",
     "text": [
      "['Alvin Kamara', 'Melvin Gordon III', 'Todd Gurley II', 'Michael Thomas', 'Tyreek Hill', 'DeSean Jackson', 'Jesse James']\n"
     ]
    },
    {
     "data": {
      "text/plain": [
       "210.50000000000003"
      ]
     },
     "execution_count": 47,
     "metadata": {},
     "output_type": "execute_result"
    }
   ],
   "source": [
    "greedy_points = greedy(\"points\")\n",
    "print(greedy_points)\n",
    "eval_players(greedy_points)"
   ]
  },
  {
   "cell_type": "markdown",
   "metadata": {},
   "source": [
    "About 45 points behind our optimal choice, which isn't too bad. If you notice there is only 8 choices since we ran out of money by the time we got to the end. Let's try a points per salary dollar."
   ]
  },
  {
   "cell_type": "code",
   "execution_count": 48,
   "metadata": {},
   "outputs": [],
   "source": [
    "points_per_dollar = current.points / current.salary\n",
    "current[\"points_per_dollar\"] = points_per_dollar"
   ]
  },
  {
   "cell_type": "code",
   "execution_count": 49,
   "metadata": {},
   "outputs": [
    {
     "name": "stdout",
     "output_type": "stream",
     "text": [
      "['James Conner', 'Austin Ekeler', 'Melvin Gordon III', 'DeSean Jackson', 'Will Fuller V', 'Kenny Golladay', 'Tyreek Hill', 'Ryan Fitzpatrick', 'Jesse James']\n"
     ]
    },
    {
     "data": {
      "text/plain": [
       "248.2"
      ]
     },
     "execution_count": 49,
     "metadata": {},
     "output_type": "execute_result"
    }
   ],
   "source": [
    "points_per_dollar = current.points / current.salary\n",
    "current[\"points_per_dollar\"] = points_per_dollar\n",
    "greedy_points = greedy(\"points_per_dollar\")\n",
    "print(greedy_points)\n",
    "eval_players(greedy_points)"
   ]
  },
  {
   "cell_type": "markdown",
   "metadata": {},
   "source": [
    "The linear programming method is not likely to bring you into elite status of Fantasy Football, but it greatly simplifies the problem. The basic assumption we were working on was that the points generated last week will be generated this week. Now all there is left is to solve for how many points we can expect a player to generate. This is a simpler problem. We can run a regression, enrich the data with other sources and look at trailing averages. But when we have our numbers, we can run it through this selection method."
   ]
  },
  {
   "cell_type": "code",
   "execution_count": null,
   "metadata": {},
   "outputs": [],
   "source": []
  }
 ],
 "metadata": {
  "kernelspec": {
   "display_name": "Python 3",
   "language": "python",
   "name": "python3"
  },
  "language_info": {
   "codemirror_mode": {
    "name": "ipython",
    "version": 3
   },
   "file_extension": ".py",
   "mimetype": "text/x-python",
   "name": "python",
   "nbconvert_exporter": "python",
   "pygments_lexer": "ipython3",
   "version": "3.7.6"
  }
 },
 "nbformat": 4,
 "nbformat_minor": 2
}
